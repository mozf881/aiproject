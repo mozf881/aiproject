{
 "cells": [
  {
   "cell_type": "code",
   "execution_count": 1,
   "metadata": {
    "collapsed": false
   },
   "outputs": [],
   "source": [
    "'''\n",
    "生成TFRecord文件例子\n",
    "可运行\n",
    "'''\n",
    "\n",
    "import os \n",
    "import tensorflow as tf \n",
    "from PIL import Image  #注意Image,后面会用到\n",
    "import matplotlib.pyplot as plt \n",
    "import numpy as np"
   ]
  },
  {
   "cell_type": "code",
   "execution_count": 2,
   "metadata": {
    "collapsed": false
   },
   "outputs": [],
   "source": [
    "\n",
    " \n",
    "cwd='pic/train/'\n",
    "classes={'glacier','rock'} #人为 设定 2 类\n",
    "writer= tf.python_io.TFRecordWriter(\"dog_train.tfrecords\") #要生成的文件\n",
    " \n",
    "for index,name in enumerate(classes):\n",
    "    class_path=cwd+name+'\\\\'\n",
    "    for img_name in os.listdir(class_path): \n",
    "        img_path=class_path+img_name #每一个图片的地址\n",
    " \n",
    "        img=Image.open(img_path)\n",
    "        img= img.resize((128,128))\n",
    "        img_raw=img.tobytes()#将图片转化为二进制格式\n",
    "        example = tf.train.Example(features=tf.train.Features(feature={\n",
    "            \"label\": tf.train.Feature(int64_list=tf.train.Int64List(value=[index])),\n",
    "            'img_raw': tf.train.Feature(bytes_list=tf.train.BytesList(value=[img_raw]))\n",
    "        })) #example对象对label和image数据进行封装\n",
    "        writer.write(example.SerializeToString())  #序列化为字符串\n",
    " \n",
    "writer.close()"
   ]
  }
 ],
 "metadata": {
  "anaconda-cloud": {},
  "kernelspec": {
   "display_name": "Python [default]",
   "language": "python",
   "name": "python3"
  },
  "language_info": {
   "codemirror_mode": {
    "name": "ipython",
    "version": 3
   },
   "file_extension": ".py",
   "mimetype": "text/x-python",
   "name": "python",
   "nbconvert_exporter": "python",
   "pygments_lexer": "ipython3",
   "version": "3.5.2"
  }
 },
 "nbformat": 4,
 "nbformat_minor": 1
}
